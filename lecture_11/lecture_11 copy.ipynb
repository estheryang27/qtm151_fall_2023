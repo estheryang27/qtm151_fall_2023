{
 "cells": [
  {
   "attachments": {},
   "cell_type": "markdown",
   "metadata": {},
   "source": [
    "# <span style=\"color:darkblue\"> Lecture 11: Application 2 - Random Assignment </span>\n",
    "\n",
    "<font size = \"5\">\n",
    "\n"
   ]
  },
  {
   "attachments": {},
   "cell_type": "markdown",
   "metadata": {},
   "source": [
    "# <span style=\"color:darkblue\"> I. Import Libraries and Data </span>\n"
   ]
  },
  {
   "cell_type": "code",
   "execution_count": null,
   "metadata": {},
   "outputs": [],
   "source": [
    "Name = \"Esther Yang\"\n",
    "ID = 2487073\n",
    "print(Name)\n",
    "print(ID)\n",
    "\n",
    "print(\"I will abide by Emory's code of conduct\")"
   ]
  },
  {
   "cell_type": "code",
   "execution_count": 1,
   "metadata": {},
   "outputs": [],
   "source": [
    "import numpy as np\n",
    "import pandas as pd\n",
    "import matplotlib.pyplot as plt"
   ]
  },
  {
   "attachments": {},
   "cell_type": "markdown",
   "metadata": {},
   "source": [
    "## <span style=\"color:darkblue\"> III. Quiz Structure </span>\n",
    "\n",
    "<font size = \"5\">\n",
    "\n",
    "The day of the quiz I will ...\n",
    "- Provide a dataset with information\n",
    "- Give more specific instructions.\n",
    "- Below, you will see the type of questions that will be asked.\n",
    "- The idea is for you to apply known concepts to new data\n",
    "- You have 50 minutes to complete the assignment\n",
    "\n",
    "Questions\n",
    "\n",
    "(exact wording may change in quiz, but exercise will be very similar)\n"
   ]
  },
  {
   "attachments": {},
   "cell_type": "markdown",
   "metadata": {},
   "source": [
    "<font size = \"5\">\n",
    "\n",
    "(a) Create a function and apply it to a column\n",
    "\n",
    "- Check Lecture 8 for how to define a function\n",
    "- The function will have if/else statements and output a string\n",
    "- You will use \".apply()\" to create a new variable in the dataset <br>\n",
    "(Lecture 8)"
   ]
  },
  {
   "cell_type": "code",
   "execution_count": 1,
   "metadata": {},
   "outputs": [],
   "source": [
    "# define a function\n",
    "def greet(name):\n",
    "    return \"Hello, \" + name + \"!\"\n",
    "\n",
    "fn_iseligible_vote = lambda age: age >= 18\n",
    "fn_istwenties = lambda age: (age >= 20) & (age < 30)\n",
    "fn_sum = lambda x,y: x + y\n",
    "\n",
    "# The function will have if/else statements and output a string\n",
    "def fn_agebracket(age):\n",
    "    if (age >= 18):\n",
    "        status = \"Adult\"\n",
    "    elif (age >= 10) & (age < 18):\n",
    "        status = \"Adolescent\"\n",
    "    else:\n",
    "        status = \"Child\"\n",
    "    return(status)\n",
    "\n",
    "# use \".apply()\"\n",
    "# df['age_category'] = df['age'].apply(classify_age)\n",
    "# data[\"can_vote\"] = data[\"age\"].apply(fn_iseligible_vote)\n",
    "# data[\"in_twenties\"] = data[\"age\"].apply(fn_istwenties)\n",
    "# data[\"age_bracket\"] = data[\"age\"].apply(fn_agebracket)\n"
   ]
  },
  {
   "attachments": {},
   "cell_type": "markdown",
   "metadata": {},
   "source": [
    "<font size = \"5\">\n",
    "\n",
    "(b) Use queries + global variables\n",
    "\n",
    "- You will be asked to compute certain summary statistics <br>\n",
    "(mean, median, etc)\n",
    "- The query will have multiple conditions\n",
    "- Then subset a dataset that meets certain conditions\n",
    "- See Lecture 10 for more details"
   ]
  },
  {
   "cell_type": "code",
   "execution_count": 6,
   "metadata": {},
   "outputs": [],
   "source": [
    "#  HINT: Use .mean(), .std() \n",
    "# If you have a DataFrame \"data\" with a column \"values\"\n",
    "mean_value = data[\"values\"].mean()\n",
    "median_value = data[\"values\"].median()\n",
    "std_dev_value = data[\"values\"].std()\n",
    "\n",
    "# query have multiple conditions\n",
    "# & (and) ; |(or) ;  ~ (not)\n",
    "filtered_data = data.query(\"(values > 50) & (category == 'A')\")\n",
    "\n",
    "# query about \"Which rows have a y value that is within a certain distance from the average?\" \n",
    "subset = dataset.query('abs(y-@ybar) <= @stdv_sample')\n",
    "\n",
    "# subset the dataset using boolean indexing\n",
    "#subset_data = data[(data[\"values\"] > 50) & (data[\"category\"] == 'A')]\n"
   ]
  },
  {
   "attachments": {},
   "cell_type": "markdown",
   "metadata": {},
   "source": [
    "<font size = \"5\">\n",
    "\n",
    "(c) Use sorting + \".iloc[]\"\n",
    "\n",
    "- Extract the observations with the largest values of a column\n",
    "- See Lecture 10 for details"
   ]
  },
  {
   "cell_type": "code",
   "execution_count": null,
   "metadata": {},
   "outputs": [],
   "source": [
    "# If we have a dataset data and \n",
    "# we want to extract the observation with the largest value in the 'score' column.\n",
    "sorted_data = data.sort_values(by='score', ascending=False)\n",
    "largest_observation = sorted_data.iloc[0]\n",
    "print(largest_observation) \n",
    "# For the largest values, you'll want ascending=False\n",
    "# data.iloc[0] gets the first row\n",
    "# data.iloc[:5] gets the first 5 rows\n",
    "# car_ascendingmpg = carfeatures.sort_values(by='mpg', ascending=True)\n",
    "    # how to sort a DataFrame (carfeatures) by the 'mpg' column in ascending order (lowest to highest mpg)."
   ]
  },
  {
   "attachments": {},
   "cell_type": "markdown",
   "metadata": {},
   "source": [
    "<font size = \"5\">\n",
    "\n",
    "(d) Split a dataset into subsets\n",
    "\n",
    "- You will be asked to randomly assign a status to each row\n",
    "- Split the data into separate datasets using \".query()\"\n",
    "- This will closely follow the material in Lecture 11 (this one)\n",
    "- You will need this result to answer questions (e), (f)\n"
   ]
  },
  {
   "cell_type": "code",
   "execution_count": null,
   "metadata": {},
   "outputs": [],
   "source": [
    "# Randomly assign a status to each row\n",
    "np.random.seed(42)  # Set seed for reproducibility\n",
    "list_status = ['Treatment', 'Control']\n",
    "prop_status = [0.5, 0.5]  # Assuming a 50-50 split\n",
    "size_dataset = len(carfeatures)  # Number of rows in the dataset\n",
    "carfeatures[\"status\"] = np.random.choice(list_status,\n",
    "                                         size=size_dataset,\n",
    "                                         p=prop_status)\n",
    "\n",
    "# Split the data into separate datasets using .query()\n",
    "data_treated = carfeatures.query('status == \"Treatment\"')\n",
    "data_control = carfeatures.query('status == \"Control\"')\n",
    "    # 'column_name == \"value\"'\n"
   ]
  },
  {
   "attachments": {},
   "cell_type": "markdown",
   "metadata": {},
   "source": [
    "<font size = \"5\">\n",
    "\n",
    "(e) Create a function with four inputs $f(y,x,b0,b1)$\n",
    "\n",
    "- Start by using \"def\" to define the function\n",
    "- The function will include arithmetic operations (Lecture 3) <br>\n",
    "and summary statistics for pandas (mean, std, min, max, etc.)\n",
    "- You will be asked to test different values of $(y,x,b0,b1)$\n",
    "- You will get $y$ and $x$ from the two datasets in part (d)\n",
    "- Note: You will **not** be required to use the \"statsmodels\" library\n",
    "- Lecture 10"
   ]
  },
  {
   "cell_type": "code",
   "execution_count": 7,
   "metadata": {},
   "outputs": [],
   "source": [
    "# define the funciton and arithmetic operations\n",
    "def compute_stats(y, x, b0, b1):\n",
    "    y_pred = b0 + b1 * x\n",
    "    residuals = y - y_pred\n",
    "    mean_residuals = residuals.mean()\n",
    "    std_residuals = residuals.std()\n",
    "    min_residual = residuals.min()\n",
    "    max_residual = residuals.max()\n",
    "    return mean_residuals, std_residuals, min_residual, max_residual\n",
    "\n",
    "# different values of (y,x,b0,b1)\n",
    "mean_res, std_res, min_res, max_res = compute_stats(data_treated['y'], data_treated['x'], 0.5, 1.2)\n",
    "print(mean_res, std_res, min_res, max_res)\n",
    "\n",
    "mean_res, std_res, min_res, max_res = compute_stats(data_control['y'], data_control['x'], 0.7, 0.9)\n",
    "print(mean_res, std_res, min_res, max_res)\n"
   ]
  },
  {
   "attachments": {},
   "cell_type": "markdown",
   "metadata": {},
   "source": [
    "<font size = \"5\">\n",
    "\n",
    "(f) Create two overlapping histogram plots\n",
    "\n",
    "- You will use a variable from the two datasets in (d)\n",
    "- You need to use the \"alpha\" option to make the graphs semitransparent\n",
    "- You will need to add a legend, label the axes, and the title\n",
    "- Note: The goal of this question is to illustrate that random <br>\n",
    "assignment produces very similar distributions between two groups"
   ]
  },
  {
   "cell_type": "code",
   "execution_count": null,
   "metadata": {},
   "outputs": [],
   "source": [
    "# use variable from (d)\n",
    "treated_scores = data_treated['score']\n",
    "control_scores = data_control['score']\n",
    "\n",
    "# use \"alpha\" option\n",
    "plt.hist(treated_scores, alpha=0.5, label='Treated', bins=30)\n",
    "plt.hist(control_scores, alpha=0.5, label='Control', bins=30)\n",
    "\n",
    "# legend, axes, title\n",
    "plt.legend(loc='upper right')\n",
    "plt.xlabel('Score Value')\n",
    "plt.ylabel('Frequency')\n",
    "plt.title('Distribution of Scores for Treated vs. Control Groups')\n",
    "plt.show()\n",
    "\n",
    "# from assignment 6\n",
    "plt.figure()\n",
    "\n",
    "for year in years:\n",
    "    subset = df[df['year'] == year]\n",
    "    plt.hist(subset['prop_urbanpopulation'], alpha=0.5, label=str(year))\n",
    "\n",
    "plt.xlabel('Proportion of Urban Population')\n",
    "plt.ylabel('Number of Countries')\n",
    "plt.title('Distribution of Urban Population Proportion by Year')\n",
    "plt.legend(title  = \"list of years\")\n",
    "plt.grid(True)\n",
    "plt.show()\n",
    "\n",
    "# If the histograms of the two groups look very similar, \n",
    "# it suggests that the random assignment was effective \n",
    "# in creating two groups that are comparable on the variable being examined. \n",
    "# This is crucial for experimental designs \n",
    "# where the goal is to isolate the effect of a treatment \n",
    "# by ensuring that the treatment and control groups are similar \n",
    "# on other potential confounding variables.\\n\n",
    "\n",
    "#a) Overlapping Distributions:\n",
    "# Expected Pattern: The histograms of both groups overlap significantly.\n",
    "# What it Indicates: \n",
    "# The two groups are similar with respect to the variable being plotted. \n",
    "# This is a good indication that random assignment was effective, \n",
    "# and differences in outcomes can likely be attributed to the treatment (and not other factors).\n",
    "\n",
    "# b) Non-overlapping Distributions:\n",
    "# Unexpected Pattern: The histograms of the two groups do not overlap much or are distinctly different.\n",
    "# What it Indicates: The groups differ on the variable in question. \n",
    "# If this variable is a potential confounder, \n",
    "# the differences in outcomes between the groups might be due to this variable and not just the treatment. \n",
    "# It suggests random assignment might not have been completely effective, \n",
    "# or there are other factors affecting the distribution."
   ]
  }
 ],
 "metadata": {
  "kernelspec": {
   "display_name": "Python 3",
   "language": "python",
   "name": "python3"
  },
  "language_info": {
   "codemirror_mode": {
    "name": "ipython",
    "version": 3
   },
   "file_extension": ".py",
   "mimetype": "text/x-python",
   "name": "python",
   "nbconvert_exporter": "python",
   "pygments_lexer": "ipython3",
   "version": "3.11.4"
  },
  "orig_nbformat": 4,
  "vscode": {
   "interpreter": {
    "hash": "aee8b7b246df8f9039afb4144a1f6fd8d2ca17a180786b69acc140d282b71a49"
   }
  }
 },
 "nbformat": 4,
 "nbformat_minor": 2
}
